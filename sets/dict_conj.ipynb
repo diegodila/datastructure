{
  "nbformat": 4,
  "nbformat_minor": 0,
  "metadata": {
    "colab": {
      "name": "dict_conj.ipynb",
      "provenance": [],
      "collapsed_sections": [],
      "authorship_tag": "ABX9TyN2jyYO85MXUi9pS/lEl7gC",
      "include_colab_link": true
    },
    "kernelspec": {
      "name": "python3",
      "display_name": "Python 3"
    }
  },
  "cells": [
    {
      "cell_type": "markdown",
      "metadata": {
        "id": "view-in-github",
        "colab_type": "text"
      },
      "source": [
        "<a href=\"https://colab.research.google.com/github/dieffgg/data-structure/blob/dev/dict_conj.ipynb\" target=\"_parent\"><img src=\"https://colab.research.google.com/assets/colab-badge.svg\" alt=\"Open In Colab\"/></a>"
      ]
    },
    {
      "cell_type": "code",
      "metadata": {
        "id": "BfmTZE8cSkJu",
        "colab_type": "code",
        "colab": {}
      },
      "source": [
        "#tupla"
      ],
      "execution_count": 7,
      "outputs": []
    },
    {
      "cell_type": "code",
      "metadata": {
        "id": "cfBjjWLOWUmy",
        "colab_type": "code",
        "colab": {}
      },
      "source": [
        "tupla = ('brook', 'diego', 'gabriela')"
      ],
      "execution_count": null,
      "outputs": []
    },
    {
      "cell_type": "code",
      "metadata": {
        "id": "FNHVhveoSyNW",
        "colab_type": "code",
        "colab": {
          "base_uri": "https://localhost:8080/",
          "height": 33
        },
        "outputId": "ef8ab08a-6399-4398-8ccc-405ccec892e9"
      },
      "source": [
        "tupla"
      ],
      "execution_count": 8,
      "outputs": [
        {
          "output_type": "execute_result",
          "data": {
            "text/plain": [
              "('brook', 'diego', 'gabriela')"
            ]
          },
          "metadata": {
            "tags": []
          },
          "execution_count": 8
        }
      ]
    },
    {
      "cell_type": "code",
      "metadata": {
        "id": "I5s2J1UNWZvF",
        "colab_type": "code",
        "colab": {}
      },
      "source": [
        "#indice"
      ],
      "execution_count": null,
      "outputs": []
    },
    {
      "cell_type": "code",
      "metadata": {
        "id": "KFnXVAZES55l",
        "colab_type": "code",
        "colab": {
          "base_uri": "https://localhost:8080/",
          "height": 35
        },
        "outputId": "5390cf26-5bc6-4ce8-989f-d0e751f988ed"
      },
      "source": [
        "tupla[0]"
      ],
      "execution_count": 9,
      "outputs": [
        {
          "output_type": "execute_result",
          "data": {
            "application/vnd.google.colaboratory.intrinsic+json": {
              "type": "string"
            },
            "text/plain": [
              "'brook'"
            ]
          },
          "metadata": {
            "tags": []
          },
          "execution_count": 9
        }
      ]
    },
    {
      "cell_type": "code",
      "metadata": {
        "id": "zosuCj-QTcjk",
        "colab_type": "code",
        "colab": {
          "base_uri": "https://localhost:8080/",
          "height": 33
        },
        "outputId": "0ceb9f01-ebda-4409-d0c2-cb634e42157e"
      },
      "source": [
        "tupla.index('diego')"
      ],
      "execution_count": 11,
      "outputs": [
        {
          "output_type": "execute_result",
          "data": {
            "text/plain": [
              "1"
            ]
          },
          "metadata": {
            "tags": []
          },
          "execution_count": 11
        }
      ]
    },
    {
      "cell_type": "code",
      "metadata": {
        "id": "UxEX5hHbThqR",
        "colab_type": "code",
        "colab": {}
      },
      "source": [
        "palavras = {1 : 'banana',\n",
        "            2 : 'maça',\n",
        "            3 : 'pera'}"
      ],
      "execution_count": 12,
      "outputs": []
    },
    {
      "cell_type": "code",
      "metadata": {
        "id": "F4yz9_7rUoUp",
        "colab_type": "code",
        "colab": {
          "base_uri": "https://localhost:8080/",
          "height": 35
        },
        "outputId": "e774fd31-2ec6-4d84-f42e-9425106aa805"
      },
      "source": [
        "palavras[1]"
      ],
      "execution_count": 16,
      "outputs": [
        {
          "output_type": "execute_result",
          "data": {
            "application/vnd.google.colaboratory.intrinsic+json": {
              "type": "string"
            },
            "text/plain": [
              "'banana'"
            ]
          },
          "metadata": {
            "tags": []
          },
          "execution_count": 16
        }
      ]
    },
    {
      "cell_type": "code",
      "metadata": {
        "id": "FOn8GFrnUqXz",
        "colab_type": "code",
        "colab": {
          "base_uri": "https://localhost:8080/",
          "height": 35
        },
        "outputId": "28e5712e-ec09-456a-d167-89159aed1956"
      },
      "source": [
        "palavras[2]"
      ],
      "execution_count": 14,
      "outputs": [
        {
          "output_type": "execute_result",
          "data": {
            "application/vnd.google.colaboratory.intrinsic+json": {
              "type": "string"
            },
            "text/plain": [
              "'maça'"
            ]
          },
          "metadata": {
            "tags": []
          },
          "execution_count": 14
        }
      ]
    },
    {
      "cell_type": "code",
      "metadata": {
        "id": "MlRxNDYjUtBE",
        "colab_type": "code",
        "colab": {
          "base_uri": "https://localhost:8080/",
          "height": 33
        },
        "outputId": "5ef11680-9a02-4e9a-e03d-94f8d3711eba"
      },
      "source": [
        "palavras.items()"
      ],
      "execution_count": 17,
      "outputs": [
        {
          "output_type": "execute_result",
          "data": {
            "text/plain": [
              "dict_items([(1, 'banana'), (2, 'maça'), (3, 'pera')])"
            ]
          },
          "metadata": {
            "tags": []
          },
          "execution_count": 17
        }
      ]
    },
    {
      "cell_type": "code",
      "metadata": {
        "id": "YY3rYhvoVWXk",
        "colab_type": "code",
        "colab": {
          "base_uri": "https://localhost:8080/",
          "height": 33
        },
        "outputId": "9498198a-318f-4b62-f0bf-f1a04db506da"
      },
      "source": [
        "palavras.keys()"
      ],
      "execution_count": 18,
      "outputs": [
        {
          "output_type": "execute_result",
          "data": {
            "text/plain": [
              "dict_keys([1, 2, 3])"
            ]
          },
          "metadata": {
            "tags": []
          },
          "execution_count": 18
        }
      ]
    },
    {
      "cell_type": "code",
      "metadata": {
        "id": "w6N0zDRdWP-2",
        "colab_type": "code",
        "colab": {}
      },
      "source": [
        "#UPDATE DICT"
      ],
      "execution_count": null,
      "outputs": []
    },
    {
      "cell_type": "code",
      "metadata": {
        "id": "fVSUoDTKVZsE",
        "colab_type": "code",
        "colab": {}
      },
      "source": [
        "carros = {'ford': 2,\n",
        "          'volks': 3,\n",
        "          'kds': 5}"
      ],
      "execution_count": 19,
      "outputs": []
    },
    {
      "cell_type": "code",
      "metadata": {
        "id": "ePZlrXMKWHsC",
        "colab_type": "code",
        "colab": {}
      },
      "source": [
        "palavras.update(carros)"
      ],
      "execution_count": 21,
      "outputs": []
    },
    {
      "cell_type": "code",
      "metadata": {
        "id": "jVhQ92dHXwSI",
        "colab_type": "code",
        "colab": {}
      },
      "source": [
        "#FOR INLINE KEY, VALUE DICT"
      ],
      "execution_count": 29,
      "outputs": []
    },
    {
      "cell_type": "code",
      "metadata": {
        "id": "VOHFsvULWKrJ",
        "colab_type": "code",
        "colab": {
          "base_uri": "https://localhost:8080/",
          "height": 33
        },
        "outputId": "c5c70885-abf6-4d73-9d57-be77f4aec7ef"
      },
      "source": [
        "palavras"
      ],
      "execution_count": 22,
      "outputs": [
        {
          "output_type": "execute_result",
          "data": {
            "text/plain": [
              "{1: 'banana', 2: 'maça', 3: 'pera', 'ford': 2, 'kds': 5, 'volks': 3}"
            ]
          },
          "metadata": {
            "tags": []
          },
          "execution_count": 22
        }
      ]
    },
    {
      "cell_type": "code",
      "metadata": {
        "id": "3z0VDH0NWeb-",
        "colab_type": "code",
        "colab": {
          "base_uri": "https://localhost:8080/",
          "height": 131
        },
        "outputId": "20dfbf38-ae35-47c8-fcb0-81b5c222a090"
      },
      "source": [
        "[print(f'key:{key} value:{value}') for key, value in palavras.items()]"
      ],
      "execution_count": 26,
      "outputs": [
        {
          "output_type": "stream",
          "text": [
            "key:1 value:banana\n",
            "key:2 value:maça\n",
            "key:3 value:pera\n",
            "key:ford value:2\n",
            "key:volks value:3\n",
            "key:kds value:5\n"
          ],
          "name": "stdout"
        },
        {
          "output_type": "execute_result",
          "data": {
            "text/plain": [
              "[None, None, None, None, None, None]"
            ]
          },
          "metadata": {
            "tags": []
          },
          "execution_count": 26
        }
      ]
    },
    {
      "cell_type": "code",
      "metadata": {
        "id": "g7JewrzNWvh5",
        "colab_type": "code",
        "colab": {
          "base_uri": "https://localhost:8080/",
          "height": 33
        },
        "outputId": "2753c1e2-2153-4adf-d0c3-65fcc1752da6"
      },
      "source": [
        "#CONJUNTO"
      ],
      "execution_count": 28,
      "outputs": [
        {
          "output_type": "execute_result",
          "data": {
            "text/plain": [
              "dict_items([(1, 'banana'), (2, 'maça'), (3, 'pera'), ('ford', 2), ('volks', 3), ('kds', 5)])"
            ]
          },
          "metadata": {
            "tags": []
          },
          "execution_count": 28
        }
      ]
    },
    {
      "cell_type": "code",
      "metadata": {
        "id": "b3CCM7I-XdCz",
        "colab_type": "code",
        "colab": {}
      },
      "source": [
        "praia = ('campeche', 'pauba', 'santiago', 'santiago', 'pauba')"
      ],
      "execution_count": 34,
      "outputs": []
    },
    {
      "cell_type": "code",
      "metadata": {
        "id": "Fik3xg9lY1nA",
        "colab_type": "code",
        "colab": {}
      },
      "source": [
        "#ELEMENTOS QUE NÃO SE REPETEM"
      ],
      "execution_count": 39,
      "outputs": []
    },
    {
      "cell_type": "code",
      "metadata": {
        "id": "OORbNu0yYGS-",
        "colab_type": "code",
        "colab": {
          "base_uri": "https://localhost:8080/",
          "height": 33
        },
        "outputId": "086b02b8-cc5a-4fe4-dab0-816e9a3ee5af"
      },
      "source": [
        "print(set(praia))"
      ],
      "execution_count": 40,
      "outputs": [
        {
          "output_type": "stream",
          "text": [
            "{'pauba', 'santiago', 'campeche'}\n"
          ],
          "name": "stdout"
        }
      ]
    },
    {
      "cell_type": "code",
      "metadata": {
        "id": "YGCHAKliYHIj",
        "colab_type": "code",
        "colab": {}
      },
      "source": [
        "x = {1,2,3,4,5}"
      ],
      "execution_count": 43,
      "outputs": []
    },
    {
      "cell_type": "code",
      "metadata": {
        "id": "Phzz-B0lZM8B",
        "colab_type": "code",
        "colab": {}
      },
      "source": [
        "y = {4,5,6,7,8}"
      ],
      "execution_count": 44,
      "outputs": []
    },
    {
      "cell_type": "code",
      "metadata": {
        "id": "Vk_BclLwZ81n",
        "colab_type": "code",
        "colab": {}
      },
      "source": [
        "#INTERSECTION MATH"
      ],
      "execution_count": null,
      "outputs": []
    },
    {
      "cell_type": "code",
      "metadata": {
        "id": "R7sE6MeEZRlq",
        "colab_type": "code",
        "colab": {}
      },
      "source": [
        "z = x.intersection(y)"
      ],
      "execution_count": 45,
      "outputs": []
    },
    {
      "cell_type": "code",
      "metadata": {
        "id": "lRrw4LrZZgUh",
        "colab_type": "code",
        "colab": {
          "base_uri": "https://localhost:8080/",
          "height": 33
        },
        "outputId": "12875322-de2f-4fa2-fbac-83074ccc8bdb"
      },
      "source": [
        "z"
      ],
      "execution_count": 46,
      "outputs": [
        {
          "output_type": "execute_result",
          "data": {
            "text/plain": [
              "{4, 5}"
            ]
          },
          "metadata": {
            "tags": []
          },
          "execution_count": 46
        }
      ]
    },
    {
      "cell_type": "code",
      "metadata": {
        "id": "cP-EujVXaEXw",
        "colab_type": "code",
        "colab": {}
      },
      "source": [
        "#DIFFERENCE MATH"
      ],
      "execution_count": 49,
      "outputs": []
    },
    {
      "cell_type": "code",
      "metadata": {
        "id": "gfluoJIwZgob",
        "colab_type": "code",
        "colab": {
          "base_uri": "https://localhost:8080/",
          "height": 33
        },
        "outputId": "c884a21a-7e5b-4987-dd2a-31d1136d4da7"
      },
      "source": [
        "x.difference(y)"
      ],
      "execution_count": 47,
      "outputs": [
        {
          "output_type": "execute_result",
          "data": {
            "text/plain": [
              "{1, 2, 3}"
            ]
          },
          "metadata": {
            "tags": []
          },
          "execution_count": 47
        }
      ]
    },
    {
      "cell_type": "code",
      "metadata": {
        "id": "5KC_1WI8Zq3v",
        "colab_type": "code",
        "colab": {
          "base_uri": "https://localhost:8080/",
          "height": 33
        },
        "outputId": "e91e8c18-129a-4516-8d07-aa5a9d0bbad9"
      },
      "source": [
        "y.difference(x)"
      ],
      "execution_count": 48,
      "outputs": [
        {
          "output_type": "execute_result",
          "data": {
            "text/plain": [
              "{6, 7, 8}"
            ]
          },
          "metadata": {
            "tags": []
          },
          "execution_count": 48
        }
      ]
    },
    {
      "cell_type": "code",
      "metadata": {
        "id": "MiVy-79eZttg",
        "colab_type": "code",
        "colab": {}
      },
      "source": [
        ""
      ],
      "execution_count": null,
      "outputs": []
    }
  ]
}